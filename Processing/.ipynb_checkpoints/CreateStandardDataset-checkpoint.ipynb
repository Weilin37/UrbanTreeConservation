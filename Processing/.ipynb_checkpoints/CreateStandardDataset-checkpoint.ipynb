{
 "cells": [
  {
   "cell_type": "code",
   "execution_count": 2,
   "metadata": {},
   "outputs": [],
   "source": [
    "import pandas as pd\n",
    "from os import listdir\n",
    "from os.path import isfile, join\n",
    "\n"
   ]
  },
  {
   "cell_type": "code",
   "execution_count": 5,
   "metadata": {},
   "outputs": [],
   "source": [
    "# Find files\n",
    "path = \"Final Spreadsheets\"\n",
    "files = [f for f in listdir(path) if isfile(join(path, f))]"
   ]
  },
  {
   "cell_type": "code",
   "execution_count": 23,
   "metadata": {},
   "outputs": [],
   "source": [
    "# loop through files and get common column names\n",
    "columns = []\n",
    "# loop through files\n",
    "for file in files:\n",
    "    # Read files first 10 rows\n",
    "    data = pd.read_csv(path+\"/\"+file, nrows = 10)\n",
    "    # Load data if doesnt exist\n",
    "    if len(columns) == 0:\n",
    "        columns = data.columns.tolist()\n",
    "        columns = [x.lower() for x in columns]\n",
    "    # Get intersection\n",
    "    else:\n",
    "        temp_list = data.columns.tolist()\n",
    "        temp_list = [x.lower() for x in temp_list]\n",
    "        columns = list(set(columns) & set(temp_list)) \n",
    "        \n",
    "# Add others columns that are deemed necessary\n",
    "columns.extend(['latitude','longitude'])"
   ]
  },
  {
   "cell_type": "code",
   "execution_count": 47,
   "metadata": {},
   "outputs": [
    {
     "name": "stdout",
     "output_type": "stream",
     "text": [
      "            city       state   latitude   longitude\n",
      "0     Santa Rosa  California  38.476825 -122.746857\n",
      "1     Santa Rosa  California  38.476821 -122.746913\n",
      "2     Santa Rosa  California  38.476628 -122.746994\n",
      "3     Santa Rosa  California  38.476619 -122.746992\n",
      "4     Santa Rosa  California  38.476506 -122.746970\n",
      "...          ...         ...        ...         ...\n",
      "3011  Santa Rosa  California  38.487824 -122.706582\n",
      "3012  Santa Rosa  California  38.492007 -122.699605\n",
      "3013  Santa Rosa  California  38.489987 -122.693662\n",
      "3014  Santa Rosa  California  38.487145 -122.693050\n",
      "3015  Santa Rosa  California  38.482079 -122.704741\n",
      "\n",
      "[3016 rows x 4 columns]\n"
     ]
    },
    {
     "name": "stderr",
     "output_type": "stream",
     "text": [
      "/Library/Frameworks/Python.framework/Versions/3.8/lib/python3.8/site-packages/IPython/core/interactiveshell.py:3145: DtypeWarning: Columns (20) have mixed types.Specify dtype option on import or set low_memory=False.\n",
      "  has_raised = await self.run_ast_nodes(code_ast.body, cell_name,\n"
     ]
    },
    {
     "name": "stdout",
     "output_type": "stream",
     "text": [
      "             city     state   latitude  longitude\n",
      "0       Baltimore  Maryland  39.370452 -76.705685\n",
      "1       Baltimore  Maryland  39.370347 -76.705766\n",
      "2       Baltimore  Maryland  39.362133 -76.704196\n",
      "3       Baltimore  Maryland  39.362061 -76.703829\n",
      "4       Baltimore  Maryland  39.362147 -76.704104\n",
      "...           ...       ...        ...        ...\n",
      "121291  Baltimore  Maryland  39.236693 -76.610903\n",
      "121292  Baltimore  Maryland  39.236642 -76.610763\n",
      "121293  Baltimore  Maryland  39.232128 -76.596123\n",
      "121294  Baltimore  Maryland  39.324383 -76.634971\n",
      "121295  Baltimore  Maryland  39.281416 -76.615907\n",
      "\n",
      "[121296 rows x 4 columns]\n"
     ]
    },
    {
     "name": "stderr",
     "output_type": "stream",
     "text": [
      "/Library/Frameworks/Python.framework/Versions/3.8/lib/python3.8/site-packages/IPython/core/interactiveshell.py:3145: DtypeWarning: Columns (6,30) have mixed types.Specify dtype option on import or set low_memory=False.\n",
      "  has_raised = await self.run_ast_nodes(code_ast.body, cell_name,\n"
     ]
    },
    {
     "name": "stdout",
     "output_type": "stream",
     "text": [
      "          city     state   latitude  longitude\n",
      "0      Detroit  Michigan  42.313624 -83.131431\n",
      "1      Detroit  Michigan  42.397312 -83.085051\n",
      "2      Detroit  Michigan  42.397070 -83.085716\n",
      "3      Detroit  Michigan  42.437857 -83.174298\n",
      "4      Detroit  Michigan  42.315706 -83.092432\n",
      "...        ...       ...        ...        ...\n",
      "20958  Detroit  Michigan  42.352792 -83.062373\n",
      "20959  Detroit  Michigan  42.353034 -83.065138\n",
      "20960  Detroit  Michigan  42.352760 -83.065811\n",
      "20961  Detroit  Michigan  42.351866 -83.068311\n",
      "20962  Detroit  Michigan  42.350538 -83.067799\n",
      "\n",
      "[20963 rows x 4 columns]\n"
     ]
    },
    {
     "name": "stderr",
     "output_type": "stream",
     "text": [
      "/Library/Frameworks/Python.framework/Versions/3.8/lib/python3.8/site-packages/IPython/core/interactiveshell.py:3145: DtypeWarning: Columns (4,38) have mixed types.Specify dtype option on import or set low_memory=False.\n",
      "  has_raised = await self.run_ast_nodes(code_ast.body, cell_name,\n",
      "/Library/Frameworks/Python.framework/Versions/3.8/lib/python3.8/site-packages/IPython/core/interactiveshell.py:3145: DtypeWarning: Columns (18,20,48) have mixed types.Specify dtype option on import or set low_memory=False.\n",
      "  has_raised = await self.run_ast_nodes(code_ast.body, cell_name,\n"
     ]
    },
    {
     "name": "stdout",
     "output_type": "stream",
     "text": [
      "           city   state   latitude   longitude\n",
      "0        Kailua  Hawaii  21.370081 -157.730577\n",
      "1      Honolulu  Hawaii  21.291990 -157.854359\n",
      "2      Honolulu  Hawaii  21.291919 -157.854391\n",
      "3       Kaneohe  Hawaii  21.404992 -157.784276\n",
      "4        Kailua  Hawaii  21.386878 -157.733199\n",
      "...         ...     ...        ...         ...\n",
      "15435  Honolulu  Hawaii  21.289564 -157.848757\n",
      "15436  Honolulu  Hawaii  21.334870 -157.838886\n",
      "15437    Kailua  Hawaii  21.408566 -157.753671\n",
      "15438    Kailua  Hawaii  21.395790 -157.723804\n",
      "15439  Honolulu  Hawaii  21.288721 -157.845238\n",
      "\n",
      "[15440 rows x 4 columns]\n",
      "               city     state   latitude  longitude\n",
      "0     Oklahoma City  Oklahoma  35.484334 -97.528227\n",
      "1     Oklahoma City  Oklahoma  35.484283 -97.528145\n",
      "2     Oklahoma City  Oklahoma  35.484225 -97.528066\n",
      "3     Oklahoma City  Oklahoma  35.484171 -97.527986\n",
      "4     Oklahoma City  Oklahoma  35.484368 -97.528318\n",
      "...             ...       ...        ...        ...\n",
      "9995  Oklahoma City  Oklahoma  35.447132 -97.521513\n",
      "9996  Oklahoma City  Oklahoma  35.447027 -97.523997\n",
      "9997  Oklahoma City  Oklahoma  35.447239 -97.523625\n",
      "9998  Oklahoma City  Oklahoma  35.446950 -97.521661\n",
      "9999  Oklahoma City  Oklahoma  35.447052 -97.521533\n",
      "\n",
      "[10000 rows x 4 columns]\n"
     ]
    },
    {
     "name": "stderr",
     "output_type": "stream",
     "text": [
      "/Library/Frameworks/Python.framework/Versions/3.8/lib/python3.8/site-packages/IPython/core/interactiveshell.py:3145: DtypeWarning: Columns (24,25,26,27,28,29,30,31) have mixed types.Specify dtype option on import or set low_memory=False.\n",
      "  has_raised = await self.run_ast_nodes(code_ast.body, cell_name,\n"
     ]
    },
    {
     "name": "stdout",
     "output_type": "stream",
     "text": [
      "             city    state   latitude  longitude\n",
      "0      Cape Coral  Florida  26.585409 -82.012185\n",
      "1      Cape Coral  Florida  26.585460 -82.012231\n",
      "2      Cape Coral  Florida  26.585343 -82.012375\n",
      "3      Cape Coral  Florida  26.585301 -82.012328\n",
      "4      Cape Coral  Florida  26.585330 -82.012539\n",
      "...           ...      ...        ...        ...\n",
      "34282  Cape Coral  Florida  26.575477 -81.982473\n",
      "34283  Cape Coral  Florida  26.630568 -81.957750\n",
      "34284  Cape Coral  Florida  26.630567 -81.957768\n",
      "34285  Cape Coral  Florida  26.630565 -81.957785\n",
      "34286  Cape Coral  Florida  26.630567 -81.957848\n",
      "\n",
      "[34287 rows x 4 columns]\n",
      "        city  state   latitude  longitude\n",
      "0     Austin  Texas  30.273151  97.736905\n",
      "1     Austin  Texas  30.273910  97.736577\n",
      "2     Austin  Texas  30.273360  97.736597\n",
      "3     Austin  Texas  30.273816  97.736319\n",
      "4     Austin  Texas  30.273598  97.736167\n",
      "...      ...    ...        ...        ...\n",
      "7290  Austin  Texas  30.270410  97.735566\n",
      "7291  Austin  Texas  30.270277  97.735339\n",
      "7292  Austin  Texas  30.270214  97.735321\n",
      "7293  Austin  Texas  30.267638  97.735989\n",
      "7294  Austin  Texas  30.275058  97.732306\n",
      "\n",
      "[7295 rows x 4 columns]\n"
     ]
    },
    {
     "name": "stderr",
     "output_type": "stream",
     "text": [
      "/Library/Frameworks/Python.framework/Versions/3.8/lib/python3.8/site-packages/IPython/core/interactiveshell.py:3145: DtypeWarning: Columns (3,31,34) have mixed types.Specify dtype option on import or set low_memory=False.\n",
      "  has_raised = await self.run_ast_nodes(code_ast.body, cell_name,\n"
     ]
    },
    {
     "name": "stdout",
     "output_type": "stream",
     "text": [
      "               city       state   latitude   longitude\n",
      "0      Garden Grove  California  33.799523 -117.958390\n",
      "1      Garden Grove  California  33.799516 -117.958315\n",
      "2      Garden Grove  California  33.796109 -117.958168\n",
      "3      Garden Grove  California  33.796062 -117.958272\n",
      "4      Garden Grove  California  33.796029 -117.958384\n",
      "...             ...         ...        ...         ...\n",
      "17517  Garden Grove  California  33.783476 -117.959874\n",
      "17518  Garden Grove  California  33.783576 -117.959599\n",
      "17519  Garden Grove  California  33.783479 -117.959574\n",
      "17520  Garden Grove  California  33.783566 -117.959397\n",
      "17521  Garden Grove  California  33.792683 -117.958870\n",
      "\n",
      "[17522 rows x 4 columns]\n",
      "            city       state   latitude   longitude\n",
      "0      San Diego  California  37.317225 -121.769056\n",
      "1      San Diego  California  37.317353 -121.770292\n",
      "2      San Diego  California  37.317364 -121.770225\n",
      "3      San Diego  California  37.317945 -121.766315\n",
      "4      San Diego  California  37.316970 -121.766069\n",
      "...          ...         ...        ...         ...\n",
      "18385  San Diego  California  37.314300 -121.780055\n",
      "18386  San Diego  California  37.314271 -121.779739\n",
      "18387  San Diego  California  37.314341 -121.779261\n",
      "18388  San Diego  California  37.314362 -121.779138\n",
      "18389  San Diego  California  37.338371 -121.886251\n",
      "\n",
      "[18390 rows x 4 columns]\n"
     ]
    },
    {
     "name": "stderr",
     "output_type": "stream",
     "text": [
      "/Library/Frameworks/Python.framework/Versions/3.8/lib/python3.8/site-packages/IPython/core/interactiveshell.py:3145: DtypeWarning: Columns (7,9,10,21,39) have mixed types.Specify dtype option on import or set low_memory=False.\n",
      "  has_raised = await self.run_ast_nodes(code_ast.body, cell_name,\n"
     ]
    },
    {
     "name": "stdout",
     "output_type": "stream",
     "text": [
      "            city     state   latitude  longitude\n",
      "0       New York  New York  40.723092 -73.844215\n",
      "1       New York  New York  40.794111 -73.818679\n",
      "2       New York  New York  40.717581 -73.936608\n",
      "3       New York  New York  40.713537 -73.934456\n",
      "4       New York  New York  40.666778 -73.975979\n",
      "...          ...       ...        ...        ...\n",
      "683783  New York  New York  40.713211 -73.954944\n",
      "683784  New York  New York  40.715194 -73.856650\n",
      "683785  New York  New York  40.620762 -74.136517\n",
      "683786  New York  New York  40.850828 -73.903115\n",
      "683787  New York  New York  40.732165 -73.787526\n",
      "\n",
      "[683788 rows x 4 columns]\n",
      "                   city       state   latitude   longitude\n",
      "0      Huntington Beach  California  33.661094 -118.006318\n",
      "1      Huntington Beach  California  33.661149 -118.006262\n",
      "2      Huntington Beach  California  33.661231 -118.006165\n",
      "3      Huntington Beach  California  33.661254 -118.006139\n",
      "4      Huntington Beach  California  33.661704 -118.005852\n",
      "...                 ...         ...        ...         ...\n",
      "55823  Huntington Beach  California  33.750080 -118.018076\n",
      "55824  Huntington Beach  California  33.749899 -118.018226\n",
      "55825  Huntington Beach  California  33.749808 -118.018440\n",
      "55826  Huntington Beach  California  33.749883 -118.018057\n",
      "55827  Huntington Beach  California  33.749815 -118.017860\n",
      "\n",
      "[55828 rows x 4 columns]\n",
      "            city  state   latitude  longitude\n",
      "0      Arlington  Texas  32.763563 -97.103115\n",
      "1      Arlington  Texas  32.690654 -97.111814\n",
      "2      Arlington  Texas  32.657584 -97.129185\n",
      "3      Arlington  Texas  32.657634 -97.129156\n",
      "4      Arlington  Texas  32.657684 -97.129184\n",
      "...          ...    ...        ...        ...\n",
      "14822  Arlington  Texas  32.735300 -97.079465\n",
      "14823  Arlington  Texas  32.753457 -97.067498\n",
      "14824  Arlington  Texas  32.753512 -97.067467\n",
      "14825  Arlington  Texas  32.763091 -97.058071\n",
      "14826  Arlington  Texas  32.755888 -97.081141\n",
      "\n",
      "[14827 rows x 4 columns]\n",
      "           city     state   latitude  longitude\n",
      "0       Buffalo  New York  42.896862 -78.832830\n",
      "1       Buffalo  New York  42.898567 -78.864156\n",
      "2       Buffalo  New York  42.910152 -78.847752\n",
      "3       Buffalo  New York  42.880505 -78.851928\n",
      "4       Buffalo  New York  42.888154 -78.859594\n",
      "...         ...       ...        ...        ...\n",
      "132990  Buffalo  New York  42.936612 -78.799253\n",
      "132991  Buffalo  New York  42.881587 -78.846994\n",
      "132992  Buffalo  New York  42.924931 -78.893601\n",
      "132993  Buffalo  New York  42.944252 -78.905692\n",
      "132994  Buffalo  New York  42.931628 -78.888798\n",
      "\n",
      "[132995 rows x 4 columns]\n",
      "          city       state  latitude  longitude\n",
      "0      Oakland  California  37.80506 -122.27302\n",
      "1      Oakland  California  37.80506 -122.27302\n",
      "2      Oakland  California  37.80506 -122.27302\n",
      "3      Oakland  California  37.80506 -122.27302\n",
      "4      Oakland  California  37.80506 -122.27302\n",
      "...        ...         ...       ...        ...\n",
      "38608  Oakland  California  37.80506 -122.27302\n",
      "38609  Oakland  California  37.80506 -122.27302\n",
      "38610  Oakland  California  37.80506 -122.27302\n",
      "38611  Oakland  California  37.80506 -122.27302\n",
      "38612  Oakland  California  37.80506 -122.27302\n",
      "\n",
      "[38613 rows x 4 columns]\n"
     ]
    },
    {
     "name": "stderr",
     "output_type": "stream",
     "text": [
      "/Library/Frameworks/Python.framework/Versions/3.8/lib/python3.8/site-packages/IPython/core/interactiveshell.py:3145: DtypeWarning: Columns (13,14,15,16) have mixed types.Specify dtype option on import or set low_memory=False.\n",
      "  has_raised = await self.run_ast_nodes(code_ast.body, cell_name,\n"
     ]
    },
    {
     "name": "stdout",
     "output_type": "stream",
     "text": [
      "           city       state   latitude   longitude\n",
      "0      San Jose  California  37.212345 -121.875653\n",
      "1      San Jose  California  37.221535 -121.876753\n",
      "2      San Jose  California  37.240715 -121.939853\n",
      "3      San Jose  California  37.249795 -121.826043\n",
      "4      San Jose  California  37.250155 -121.826043\n",
      "...         ...         ...        ...         ...\n",
      "14231  San Jose  California  37.323806 -121.766394\n",
      "14232  San Jose  California  37.322624 -121.766359\n",
      "14233  San Jose  California  37.323267 -121.770612\n",
      "14234  San Jose  California  37.324045 -121.770419\n",
      "14235  San Jose  California  37.323296 -121.770391\n",
      "\n",
      "[14236 rows x 4 columns]\n"
     ]
    },
    {
     "name": "stderr",
     "output_type": "stream",
     "text": [
      "/Library/Frameworks/Python.framework/Versions/3.8/lib/python3.8/site-packages/IPython/core/interactiveshell.py:3145: DtypeWarning: Columns (11) have mixed types.Specify dtype option on import or set low_memory=False.\n",
      "  has_raised = await self.run_ast_nodes(code_ast.body, cell_name,\n"
     ]
    },
    {
     "name": "stdout",
     "output_type": "stream",
     "text": [
      "          city    state   latitude  longitude\n",
      "0      Decatur  Georgia  33.765270 -84.310026\n",
      "1      Atlanta  Georgia  33.760350 -84.411408\n",
      "2      Atlanta  Georgia  33.760299 -84.411408\n",
      "3      Atlanta  Georgia  33.760017 -84.411435\n",
      "4      Atlanta  Georgia  33.760017 -84.411507\n",
      "...        ...      ...        ...        ...\n",
      "41302  Atlanta  Georgia  33.681360 -84.372460\n",
      "41303  Atlanta  Georgia  33.681390 -84.372410\n",
      "41304  Atlanta  Georgia  33.681410 -84.372350\n",
      "41305  Atlanta  Georgia  33.681430 -84.372310\n",
      "41306  Atlanta  Georgia  33.681440 -84.372250\n",
      "\n",
      "[41307 rows x 4 columns]\n"
     ]
    },
    {
     "name": "stderr",
     "output_type": "stream",
     "text": [
      "/Library/Frameworks/Python.framework/Versions/3.8/lib/python3.8/site-packages/IPython/core/interactiveshell.py:3145: DtypeWarning: Columns (9,45) have mixed types.Specify dtype option on import or set low_memory=False.\n",
      "  has_raised = await self.run_ast_nodes(code_ast.body, cell_name,\n"
     ]
    },
    {
     "name": "stdout",
     "output_type": "stream",
     "text": [
      "           city       state   latitude   longitude\n",
      "0       Seattle  Washington  47.635207 -122.282080\n",
      "1       Seattle  Washington  47.597548 -122.310243\n",
      "2       Seattle  Washington  47.673916 -122.355204\n",
      "3       Seattle  Washington  47.649141 -122.318952\n",
      "4       Seattle  Washington  47.613092 -122.344731\n",
      "...         ...         ...        ...         ...\n",
      "165618  Seattle  Washington  47.566103 -122.365806\n",
      "165619  Seattle  Washington  47.566102 -122.365926\n",
      "165620  Seattle  Washington  47.541454 -122.323142\n",
      "165621  Seattle  Washington  47.541436 -122.323017\n",
      "165622  Seattle  Washington  47.541410 -122.322861\n",
      "\n",
      "[165623 rows x 4 columns]\n",
      "              city state   latitude  longitude\n",
      "0          De Soto  Iowa  41.529036 -94.007356\n",
      "1          De Soto  Iowa  41.527016 -94.010609\n",
      "2           Newton  Iowa  41.686648 -93.057814\n",
      "3           Newton  Iowa  41.690123 -93.054330\n",
      "4           Newton  Iowa  41.689780 -93.053426\n",
      "...            ...   ...        ...        ...\n",
      "16870  Coon Rapids  Iowa  41.868845 -94.679445\n",
      "16871  Coon Rapids  Iowa  41.868712 -94.679204\n",
      "16872  Coon Rapids  Iowa  41.868668 -94.679319\n",
      "16873  Coon Rapids  Iowa  41.868813 -94.680392\n",
      "16874  Coon Rapids  Iowa  41.875106 -94.686082\n",
      "\n",
      "[16875 rows x 4 columns]\n"
     ]
    },
    {
     "name": "stderr",
     "output_type": "stream",
     "text": [
      "/Library/Frameworks/Python.framework/Versions/3.8/lib/python3.8/site-packages/IPython/core/interactiveshell.py:3145: DtypeWarning: Columns (16,17,18,19,20,32) have mixed types.Specify dtype option on import or set low_memory=False.\n",
      "  has_raised = await self.run_ast_nodes(code_ast.body, cell_name,\n",
      "/Library/Frameworks/Python.framework/Versions/3.8/lib/python3.8/site-packages/IPython/core/interactiveshell.py:3145: DtypeWarning: Columns (20) have mixed types.Specify dtype option on import or set low_memory=False.\n",
      "  has_raised = await self.run_ast_nodes(code_ast.body, cell_name,\n"
     ]
    },
    {
     "name": "stdout",
     "output_type": "stream",
     "text": [
      "            city      state   latitude  longitude\n",
      "0      Cedarburg  Wisconsin  43.299162 -87.997964\n",
      "1      Cedarburg  Wisconsin  43.300466 -88.003973\n",
      "2      Cedarburg  Wisconsin  43.298355 -88.003586\n",
      "3      Cedarburg  Wisconsin  43.298355 -88.003586\n",
      "4      Cedarburg  Wisconsin  43.298355 -88.003586\n",
      "...          ...        ...        ...        ...\n",
      "32255  Milwaukee  Wisconsin  43.058231 -87.981839\n",
      "32256  Milwaukee  Wisconsin  43.058231 -87.981839\n",
      "32257  Milwaukee  Wisconsin  43.058233 -87.981825\n",
      "32258  Milwaukee  Wisconsin  43.058265 -87.981728\n",
      "32259  Milwaukee  Wisconsin  43.058202 -87.981596\n",
      "\n",
      "[32260 rows x 4 columns]\n",
      "           city      state   latitude  longitude\n",
      "0     Knoxville  Tennessee  35.949415 -83.876681\n",
      "1     Knoxville  Tennessee  35.948158 -83.875906\n",
      "2     Knoxville  Tennessee  35.864553 -84.083106\n",
      "3     Knoxville  Tennessee  35.864405 -84.083294\n",
      "4     Knoxville  Tennessee  35.864171 -84.083613\n",
      "...         ...        ...        ...        ...\n",
      "9995  Knoxville  Tennessee  35.984954 -83.898350\n",
      "9996  Knoxville  Tennessee  35.985038 -83.898252\n",
      "9997  Knoxville  Tennessee  35.984907 -83.898416\n",
      "9998  Knoxville  Tennessee  35.985311 -83.897757\n",
      "9999  Knoxville  Tennessee  35.985396 -83.897648\n",
      "\n",
      "[10000 rows x 4 columns]\n"
     ]
    },
    {
     "name": "stderr",
     "output_type": "stream",
     "text": [
      "/Library/Frameworks/Python.framework/Versions/3.8/lib/python3.8/site-packages/IPython/core/interactiveshell.py:3145: DtypeWarning: Columns (15,18,25,32,38,39,40,41,42,45,50,62,63) have mixed types.Specify dtype option on import or set low_memory=False.\n",
      "  has_raised = await self.run_ast_nodes(code_ast.body, cell_name,\n"
     ]
    },
    {
     "ename": "KeyboardInterrupt",
     "evalue": "",
     "output_type": "error",
     "traceback": [
      "\u001b[0;31m---------------------------------------------------------------------------\u001b[0m",
      "\u001b[0;31mKeyboardInterrupt\u001b[0m                         Traceback (most recent call last)",
      "\u001b[0;32m<ipython-input-47-f7a87761eab8>\u001b[0m in \u001b[0;36m<module>\u001b[0;34m\u001b[0m\n\u001b[1;32m     10\u001b[0m     \u001b[0mdf_temp\u001b[0m \u001b[0;34m=\u001b[0m \u001b[0mpd\u001b[0m\u001b[0;34m.\u001b[0m\u001b[0mDataFrame\u001b[0m\u001b[0;34m(\u001b[0m\u001b[0mcolumns\u001b[0m \u001b[0;34m=\u001b[0m \u001b[0mcolumns\u001b[0m\u001b[0;34m)\u001b[0m\u001b[0;34m\u001b[0m\u001b[0;34m\u001b[0m\u001b[0m\n\u001b[1;32m     11\u001b[0m     \u001b[0;31m# Read data\u001b[0m\u001b[0;34m\u001b[0m\u001b[0;34m\u001b[0m\u001b[0;34m\u001b[0m\u001b[0m\n\u001b[0;32m---> 12\u001b[0;31m     \u001b[0mdata\u001b[0m \u001b[0;34m=\u001b[0m \u001b[0mpd\u001b[0m\u001b[0;34m.\u001b[0m\u001b[0mread_csv\u001b[0m\u001b[0;34m(\u001b[0m\u001b[0mpath\u001b[0m\u001b[0;34m+\u001b[0m\u001b[0;34m\"/\"\u001b[0m\u001b[0;34m+\u001b[0m\u001b[0mfile\u001b[0m\u001b[0;34m)\u001b[0m\u001b[0;34m\u001b[0m\u001b[0;34m\u001b[0m\u001b[0m\n\u001b[0m\u001b[1;32m     13\u001b[0m     \u001b[0;31m# Get column names\u001b[0m\u001b[0;34m\u001b[0m\u001b[0;34m\u001b[0m\u001b[0;34m\u001b[0m\u001b[0m\n\u001b[1;32m     14\u001b[0m     \u001b[0mcolumn_names\u001b[0m \u001b[0;34m=\u001b[0m \u001b[0mdata\u001b[0m\u001b[0;34m.\u001b[0m\u001b[0mcolumns\u001b[0m\u001b[0;34m.\u001b[0m\u001b[0mtolist\u001b[0m\u001b[0;34m(\u001b[0m\u001b[0;34m)\u001b[0m\u001b[0;34m\u001b[0m\u001b[0;34m\u001b[0m\u001b[0m\n",
      "\u001b[0;32m~/Library/Python/3.8/lib/python/site-packages/pandas/io/parsers.py\u001b[0m in \u001b[0;36mread_csv\u001b[0;34m(filepath_or_buffer, sep, delimiter, header, names, index_col, usecols, squeeze, prefix, mangle_dupe_cols, dtype, engine, converters, true_values, false_values, skipinitialspace, skiprows, skipfooter, nrows, na_values, keep_default_na, na_filter, verbose, skip_blank_lines, parse_dates, infer_datetime_format, keep_date_col, date_parser, dayfirst, cache_dates, iterator, chunksize, compression, thousands, decimal, lineterminator, quotechar, quoting, doublequote, escapechar, comment, encoding, dialect, error_bad_lines, warn_bad_lines, delim_whitespace, low_memory, memory_map, float_precision)\u001b[0m\n\u001b[1;32m    684\u001b[0m     )\n\u001b[1;32m    685\u001b[0m \u001b[0;34m\u001b[0m\u001b[0m\n\u001b[0;32m--> 686\u001b[0;31m     \u001b[0;32mreturn\u001b[0m \u001b[0m_read\u001b[0m\u001b[0;34m(\u001b[0m\u001b[0mfilepath_or_buffer\u001b[0m\u001b[0;34m,\u001b[0m \u001b[0mkwds\u001b[0m\u001b[0;34m)\u001b[0m\u001b[0;34m\u001b[0m\u001b[0;34m\u001b[0m\u001b[0m\n\u001b[0m\u001b[1;32m    687\u001b[0m \u001b[0;34m\u001b[0m\u001b[0m\n\u001b[1;32m    688\u001b[0m \u001b[0;34m\u001b[0m\u001b[0m\n",
      "\u001b[0;32m~/Library/Python/3.8/lib/python/site-packages/pandas/io/parsers.py\u001b[0m in \u001b[0;36m_read\u001b[0;34m(filepath_or_buffer, kwds)\u001b[0m\n\u001b[1;32m    456\u001b[0m \u001b[0;34m\u001b[0m\u001b[0m\n\u001b[1;32m    457\u001b[0m     \u001b[0;32mtry\u001b[0m\u001b[0;34m:\u001b[0m\u001b[0;34m\u001b[0m\u001b[0;34m\u001b[0m\u001b[0m\n\u001b[0;32m--> 458\u001b[0;31m         \u001b[0mdata\u001b[0m \u001b[0;34m=\u001b[0m \u001b[0mparser\u001b[0m\u001b[0;34m.\u001b[0m\u001b[0mread\u001b[0m\u001b[0;34m(\u001b[0m\u001b[0mnrows\u001b[0m\u001b[0;34m)\u001b[0m\u001b[0;34m\u001b[0m\u001b[0;34m\u001b[0m\u001b[0m\n\u001b[0m\u001b[1;32m    459\u001b[0m     \u001b[0;32mfinally\u001b[0m\u001b[0;34m:\u001b[0m\u001b[0;34m\u001b[0m\u001b[0;34m\u001b[0m\u001b[0m\n\u001b[1;32m    460\u001b[0m         \u001b[0mparser\u001b[0m\u001b[0;34m.\u001b[0m\u001b[0mclose\u001b[0m\u001b[0;34m(\u001b[0m\u001b[0;34m)\u001b[0m\u001b[0;34m\u001b[0m\u001b[0;34m\u001b[0m\u001b[0m\n",
      "\u001b[0;32m~/Library/Python/3.8/lib/python/site-packages/pandas/io/parsers.py\u001b[0m in \u001b[0;36mread\u001b[0;34m(self, nrows)\u001b[0m\n\u001b[1;32m   1199\u001b[0m             \u001b[0mnew_rows\u001b[0m \u001b[0;34m=\u001b[0m \u001b[0mlen\u001b[0m\u001b[0;34m(\u001b[0m\u001b[0mindex\u001b[0m\u001b[0;34m)\u001b[0m\u001b[0;34m\u001b[0m\u001b[0;34m\u001b[0m\u001b[0m\n\u001b[1;32m   1200\u001b[0m \u001b[0;34m\u001b[0m\u001b[0m\n\u001b[0;32m-> 1201\u001b[0;31m         \u001b[0mdf\u001b[0m \u001b[0;34m=\u001b[0m \u001b[0mDataFrame\u001b[0m\u001b[0;34m(\u001b[0m\u001b[0mcol_dict\u001b[0m\u001b[0;34m,\u001b[0m \u001b[0mcolumns\u001b[0m\u001b[0;34m=\u001b[0m\u001b[0mcolumns\u001b[0m\u001b[0;34m,\u001b[0m \u001b[0mindex\u001b[0m\u001b[0;34m=\u001b[0m\u001b[0mindex\u001b[0m\u001b[0;34m)\u001b[0m\u001b[0;34m\u001b[0m\u001b[0;34m\u001b[0m\u001b[0m\n\u001b[0m\u001b[1;32m   1202\u001b[0m \u001b[0;34m\u001b[0m\u001b[0m\n\u001b[1;32m   1203\u001b[0m         \u001b[0mself\u001b[0m\u001b[0;34m.\u001b[0m\u001b[0m_currow\u001b[0m \u001b[0;34m+=\u001b[0m \u001b[0mnew_rows\u001b[0m\u001b[0;34m\u001b[0m\u001b[0;34m\u001b[0m\u001b[0m\n",
      "\u001b[0;32m~/Library/Python/3.8/lib/python/site-packages/pandas/core/frame.py\u001b[0m in \u001b[0;36m__init__\u001b[0;34m(self, data, index, columns, dtype, copy)\u001b[0m\n\u001b[1;32m    465\u001b[0m \u001b[0;34m\u001b[0m\u001b[0m\n\u001b[1;32m    466\u001b[0m         \u001b[0;32melif\u001b[0m \u001b[0misinstance\u001b[0m\u001b[0;34m(\u001b[0m\u001b[0mdata\u001b[0m\u001b[0;34m,\u001b[0m \u001b[0mdict\u001b[0m\u001b[0;34m)\u001b[0m\u001b[0;34m:\u001b[0m\u001b[0;34m\u001b[0m\u001b[0;34m\u001b[0m\u001b[0m\n\u001b[0;32m--> 467\u001b[0;31m             \u001b[0mmgr\u001b[0m \u001b[0;34m=\u001b[0m \u001b[0minit_dict\u001b[0m\u001b[0;34m(\u001b[0m\u001b[0mdata\u001b[0m\u001b[0;34m,\u001b[0m \u001b[0mindex\u001b[0m\u001b[0;34m,\u001b[0m \u001b[0mcolumns\u001b[0m\u001b[0;34m,\u001b[0m \u001b[0mdtype\u001b[0m\u001b[0;34m=\u001b[0m\u001b[0mdtype\u001b[0m\u001b[0;34m)\u001b[0m\u001b[0;34m\u001b[0m\u001b[0;34m\u001b[0m\u001b[0m\n\u001b[0m\u001b[1;32m    468\u001b[0m         \u001b[0;32melif\u001b[0m \u001b[0misinstance\u001b[0m\u001b[0;34m(\u001b[0m\u001b[0mdata\u001b[0m\u001b[0;34m,\u001b[0m \u001b[0mma\u001b[0m\u001b[0;34m.\u001b[0m\u001b[0mMaskedArray\u001b[0m\u001b[0;34m)\u001b[0m\u001b[0;34m:\u001b[0m\u001b[0;34m\u001b[0m\u001b[0;34m\u001b[0m\u001b[0m\n\u001b[1;32m    469\u001b[0m             \u001b[0;32mimport\u001b[0m \u001b[0mnumpy\u001b[0m\u001b[0;34m.\u001b[0m\u001b[0mma\u001b[0m\u001b[0;34m.\u001b[0m\u001b[0mmrecords\u001b[0m \u001b[0;32mas\u001b[0m \u001b[0mmrecords\u001b[0m\u001b[0;34m\u001b[0m\u001b[0;34m\u001b[0m\u001b[0m\n",
      "\u001b[0;32m~/Library/Python/3.8/lib/python/site-packages/pandas/core/internals/construction.py\u001b[0m in \u001b[0;36minit_dict\u001b[0;34m(data, index, columns, dtype)\u001b[0m\n\u001b[1;32m    281\u001b[0m             \u001b[0marr\u001b[0m \u001b[0;32mif\u001b[0m \u001b[0;32mnot\u001b[0m \u001b[0mis_datetime64tz_dtype\u001b[0m\u001b[0;34m(\u001b[0m\u001b[0marr\u001b[0m\u001b[0;34m)\u001b[0m \u001b[0;32melse\u001b[0m \u001b[0marr\u001b[0m\u001b[0;34m.\u001b[0m\u001b[0mcopy\u001b[0m\u001b[0;34m(\u001b[0m\u001b[0;34m)\u001b[0m \u001b[0;32mfor\u001b[0m \u001b[0marr\u001b[0m \u001b[0;32min\u001b[0m \u001b[0marrays\u001b[0m\u001b[0;34m\u001b[0m\u001b[0;34m\u001b[0m\u001b[0m\n\u001b[1;32m    282\u001b[0m         ]\n\u001b[0;32m--> 283\u001b[0;31m     \u001b[0;32mreturn\u001b[0m \u001b[0marrays_to_mgr\u001b[0m\u001b[0;34m(\u001b[0m\u001b[0marrays\u001b[0m\u001b[0;34m,\u001b[0m \u001b[0mdata_names\u001b[0m\u001b[0;34m,\u001b[0m \u001b[0mindex\u001b[0m\u001b[0;34m,\u001b[0m \u001b[0mcolumns\u001b[0m\u001b[0;34m,\u001b[0m \u001b[0mdtype\u001b[0m\u001b[0;34m=\u001b[0m\u001b[0mdtype\u001b[0m\u001b[0;34m)\u001b[0m\u001b[0;34m\u001b[0m\u001b[0;34m\u001b[0m\u001b[0m\n\u001b[0m\u001b[1;32m    284\u001b[0m \u001b[0;34m\u001b[0m\u001b[0m\n\u001b[1;32m    285\u001b[0m \u001b[0;34m\u001b[0m\u001b[0m\n",
      "\u001b[0;32m~/Library/Python/3.8/lib/python/site-packages/pandas/core/internals/construction.py\u001b[0m in \u001b[0;36marrays_to_mgr\u001b[0;34m(arrays, arr_names, index, columns, dtype, verify_integrity)\u001b[0m\n\u001b[1;32m     81\u001b[0m \u001b[0;34m\u001b[0m\u001b[0m\n\u001b[1;32m     82\u001b[0m         \u001b[0;31m# don't force copy because getting jammed in an ndarray anyway\u001b[0m\u001b[0;34m\u001b[0m\u001b[0;34m\u001b[0m\u001b[0;34m\u001b[0m\u001b[0m\n\u001b[0;32m---> 83\u001b[0;31m         \u001b[0marrays\u001b[0m \u001b[0;34m=\u001b[0m \u001b[0m_homogenize\u001b[0m\u001b[0;34m(\u001b[0m\u001b[0marrays\u001b[0m\u001b[0;34m,\u001b[0m \u001b[0mindex\u001b[0m\u001b[0;34m,\u001b[0m \u001b[0mdtype\u001b[0m\u001b[0;34m)\u001b[0m\u001b[0;34m\u001b[0m\u001b[0;34m\u001b[0m\u001b[0m\n\u001b[0m\u001b[1;32m     84\u001b[0m \u001b[0;34m\u001b[0m\u001b[0m\n\u001b[1;32m     85\u001b[0m         \u001b[0mcolumns\u001b[0m \u001b[0;34m=\u001b[0m \u001b[0mensure_index\u001b[0m\u001b[0;34m(\u001b[0m\u001b[0mcolumns\u001b[0m\u001b[0;34m)\u001b[0m\u001b[0;34m\u001b[0m\u001b[0;34m\u001b[0m\u001b[0m\n",
      "\u001b[0;32m~/Library/Python/3.8/lib/python/site-packages/pandas/core/internals/construction.py\u001b[0m in \u001b[0;36m_homogenize\u001b[0;34m(data, index, dtype)\u001b[0m\n\u001b[1;32m    349\u001b[0m                     \u001b[0mval\u001b[0m \u001b[0;34m=\u001b[0m \u001b[0mdict\u001b[0m\u001b[0;34m(\u001b[0m\u001b[0mval\u001b[0m\u001b[0;34m)\u001b[0m\u001b[0;34m\u001b[0m\u001b[0;34m\u001b[0m\u001b[0m\n\u001b[1;32m    350\u001b[0m                 \u001b[0mval\u001b[0m \u001b[0;34m=\u001b[0m \u001b[0mlib\u001b[0m\u001b[0;34m.\u001b[0m\u001b[0mfast_multiget\u001b[0m\u001b[0;34m(\u001b[0m\u001b[0mval\u001b[0m\u001b[0;34m,\u001b[0m \u001b[0moindex\u001b[0m\u001b[0;34m.\u001b[0m\u001b[0m_values\u001b[0m\u001b[0;34m,\u001b[0m \u001b[0mdefault\u001b[0m\u001b[0;34m=\u001b[0m\u001b[0mnp\u001b[0m\u001b[0;34m.\u001b[0m\u001b[0mnan\u001b[0m\u001b[0;34m)\u001b[0m\u001b[0;34m\u001b[0m\u001b[0;34m\u001b[0m\u001b[0m\n\u001b[0;32m--> 351\u001b[0;31m             val = sanitize_array(\n\u001b[0m\u001b[1;32m    352\u001b[0m                 \u001b[0mval\u001b[0m\u001b[0;34m,\u001b[0m \u001b[0mindex\u001b[0m\u001b[0;34m,\u001b[0m \u001b[0mdtype\u001b[0m\u001b[0;34m=\u001b[0m\u001b[0mdtype\u001b[0m\u001b[0;34m,\u001b[0m \u001b[0mcopy\u001b[0m\u001b[0;34m=\u001b[0m\u001b[0;32mFalse\u001b[0m\u001b[0;34m,\u001b[0m \u001b[0mraise_cast_failure\u001b[0m\u001b[0;34m=\u001b[0m\u001b[0;32mFalse\u001b[0m\u001b[0;34m\u001b[0m\u001b[0;34m\u001b[0m\u001b[0m\n\u001b[1;32m    353\u001b[0m             )\n",
      "\u001b[0;32m~/Library/Python/3.8/lib/python/site-packages/pandas/core/construction.py\u001b[0m in \u001b[0;36msanitize_array\u001b[0;34m(data, index, dtype, copy, raise_cast_failure)\u001b[0m\n\u001b[1;32m    507\u001b[0m \u001b[0;34m\u001b[0m\u001b[0m\n\u001b[1;32m    508\u001b[0m         \u001b[0;32mif\u001b[0m \u001b[0mis_object_dtype\u001b[0m\u001b[0;34m(\u001b[0m\u001b[0msubarr\u001b[0m\u001b[0;34m.\u001b[0m\u001b[0mdtype\u001b[0m\u001b[0;34m)\u001b[0m \u001b[0;32mand\u001b[0m \u001b[0;32mnot\u001b[0m \u001b[0mis_object_dtype\u001b[0m\u001b[0;34m(\u001b[0m\u001b[0mdtype\u001b[0m\u001b[0;34m)\u001b[0m\u001b[0;34m:\u001b[0m\u001b[0;34m\u001b[0m\u001b[0;34m\u001b[0m\u001b[0m\n\u001b[0;32m--> 509\u001b[0;31m             \u001b[0minferred\u001b[0m \u001b[0;34m=\u001b[0m \u001b[0mlib\u001b[0m\u001b[0;34m.\u001b[0m\u001b[0minfer_dtype\u001b[0m\u001b[0;34m(\u001b[0m\u001b[0msubarr\u001b[0m\u001b[0;34m,\u001b[0m \u001b[0mskipna\u001b[0m\u001b[0;34m=\u001b[0m\u001b[0;32mFalse\u001b[0m\u001b[0;34m)\u001b[0m\u001b[0;34m\u001b[0m\u001b[0;34m\u001b[0m\u001b[0m\n\u001b[0m\u001b[1;32m    510\u001b[0m             \u001b[0;32mif\u001b[0m \u001b[0minferred\u001b[0m \u001b[0;32min\u001b[0m \u001b[0;34m{\u001b[0m\u001b[0;34m\"interval\"\u001b[0m\u001b[0;34m,\u001b[0m \u001b[0;34m\"period\"\u001b[0m\u001b[0;34m}\u001b[0m\u001b[0;34m:\u001b[0m\u001b[0;34m\u001b[0m\u001b[0;34m\u001b[0m\u001b[0m\n\u001b[1;32m    511\u001b[0m                 \u001b[0msubarr\u001b[0m \u001b[0;34m=\u001b[0m \u001b[0marray\u001b[0m\u001b[0;34m(\u001b[0m\u001b[0msubarr\u001b[0m\u001b[0;34m)\u001b[0m\u001b[0;34m\u001b[0m\u001b[0;34m\u001b[0m\u001b[0m\n",
      "\u001b[0;31mKeyboardInterrupt\u001b[0m: "
     ]
    }
   ],
   "source": [
    "# Get data in one dataframe\n",
    "\n",
    "# Store result in this master dataframe\n",
    "df_final = pd.DataFrame(columns = columns)\n",
    "\n",
    "# Loop through files\n",
    "for file in files:\n",
    "    \n",
    "    # Create temp dataframe\n",
    "    df_temp = pd.DataFrame(columns = columns)\n",
    "    # Read data\n",
    "    data = pd.read_csv(path+\"/\"+file)\n",
    "    # Get column names\n",
    "    column_names = data.columns.tolist()\n",
    "    \n",
    "    # Check if data has lat and long data\n",
    "    if any('latitude' in string for string in column_names) and any('longitude' in string for string in column_names):\n",
    "        # Find column names containing lat and long\n",
    "        for name in column_names:\n",
    "            if name.find('latitude') == 0:\n",
    "                lat_column = name\n",
    "            if name.find('longitude') == 0:\n",
    "                long_column = name\n",
    "        \n",
    "        # Capture data\n",
    "        city = data['city']\n",
    "        state = data['state']\n",
    "        latitude = data[lat_column]\n",
    "        longitude = data[long_column]\n",
    "        \n",
    "        # Store in temp dataframe\n",
    "        df_temp['city'] = city\n",
    "        df_temp['state'] = state\n",
    "        df_temp['latitude'] = latitude\n",
    "        df_temp['longitude'] = longitude\n",
    "        \n",
    "        # append in master dataframe\n",
    "        df_final = df_final.append(df_temp)\n",
    "    else:\n",
    "        continue"
   ]
  },
  {
   "cell_type": "code",
   "execution_count": 46,
   "metadata": {},
   "outputs": [
    {
     "data": {
      "text/html": [
       "<div>\n",
       "<style scoped>\n",
       "    .dataframe tbody tr th:only-of-type {\n",
       "        vertical-align: middle;\n",
       "    }\n",
       "\n",
       "    .dataframe tbody tr th {\n",
       "        vertical-align: top;\n",
       "    }\n",
       "\n",
       "    .dataframe thead th {\n",
       "        text-align: right;\n",
       "    }\n",
       "</style>\n",
       "<table border=\"1\" class=\"dataframe\">\n",
       "  <thead>\n",
       "    <tr style=\"text-align: right;\">\n",
       "      <th></th>\n",
       "      <th>city</th>\n",
       "      <th>state</th>\n",
       "      <th>latitude</th>\n",
       "      <th>longitude</th>\n",
       "    </tr>\n",
       "  </thead>\n",
       "  <tbody>\n",
       "  </tbody>\n",
       "</table>\n",
       "</div>"
      ],
      "text/plain": [
       "Empty DataFrame\n",
       "Columns: [city, state, latitude, longitude]\n",
       "Index: []"
      ]
     },
     "execution_count": 46,
     "metadata": {},
     "output_type": "execute_result"
    }
   ],
   "source": [
    "df_final"
   ]
  },
  {
   "cell_type": "code",
   "execution_count": 31,
   "metadata": {},
   "outputs": [
    {
     "data": {
      "text/plain": [
       "False"
      ]
     },
     "execution_count": 31,
     "metadata": {},
     "output_type": "execute_result"
    }
   ],
   "source": [
    "any('latitude' in string for string in coordinates)"
   ]
  },
  {
   "cell_type": "code",
   "execution_count": 44,
   "metadata": {},
   "outputs": [
    {
     "data": {
      "text/plain": [
       "0"
      ]
     },
     "execution_count": 44,
     "metadata": {},
     "output_type": "execute_result"
    }
   ],
   "source": [
    "'latitudes'.find('latitu')"
   ]
  },
  {
   "cell_type": "code",
   "execution_count": null,
   "metadata": {},
   "outputs": [],
   "source": []
  }
 ],
 "metadata": {
  "kernelspec": {
   "display_name": "Python 3",
   "language": "python",
   "name": "python3"
  },
  "language_info": {
   "codemirror_mode": {
    "name": "ipython",
    "version": 3
   },
   "file_extension": ".py",
   "mimetype": "text/x-python",
   "name": "python",
   "nbconvert_exporter": "python",
   "pygments_lexer": "ipython3",
   "version": "3.8.5"
  }
 },
 "nbformat": 4,
 "nbformat_minor": 4
}
