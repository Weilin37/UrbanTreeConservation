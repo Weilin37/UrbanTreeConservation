{
 "cells": [
  {
   "cell_type": "code",
   "execution_count": 9,
   "metadata": {},
   "outputs": [],
   "source": [
    "import pandas as pd\n",
    "from os import listdir\n",
    "from os.path import isfile, join"
   ]
  },
  {
   "cell_type": "code",
   "execution_count": 10,
   "metadata": {},
   "outputs": [],
   "source": [
    "# Find files\n",
    "path = \"Final Spreadsheets\"\n",
    "files = [f for f in listdir(path) if isfile(join(path, f))]"
   ]
  },
  {
   "cell_type": "code",
   "execution_count": 11,
   "metadata": {},
   "outputs": [],
   "source": [
    "# loop through files and get common column names\n",
    "columns = []\n",
    "# loop through files\n",
    "for file in files:\n",
    "    # Read files first 10 rows\n",
    "    data = pd.read_csv(path+\"/\"+file, nrows = 10)\n",
    "    # Load data if doesnt exist\n",
    "    if len(columns) == 0:\n",
    "        columns = data.columns.tolist()\n",
    "        columns = [x.lower() for x in columns]\n",
    "    # Get intersection\n",
    "    else:\n",
    "        temp_list = data.columns.tolist()\n",
    "        temp_list = [x.lower() for x in temp_list]\n",
    "        columns = list(set(columns) & set(temp_list)) \n",
    "        \n",
    "# Add others columns that are deemed necessary\n",
    "columns.extend(['native','scientific_name','condition','diameter_breast_height_cm','latitude','longitude'])"
   ]
  },
  {
   "cell_type": "code",
   "execution_count": null,
   "metadata": {},
   "outputs": [
    {
     "name": "stderr",
     "output_type": "stream",
     "text": [
      "C:\\Users\\Weilin\\AppData\\Roaming\\Python\\Python38\\site-packages\\IPython\\core\\interactiveshell.py:3145: DtypeWarning: Columns (11) have mixed types.Specify dtype option on import or set low_memory=False.\n",
      "  has_raised = await self.run_ast_nodes(code_ast.body, cell_name,\n",
      "C:\\Users\\Weilin\\AppData\\Roaming\\Python\\Python38\\site-packages\\IPython\\core\\interactiveshell.py:3145: DtypeWarning: Columns (15,18,25,32,38,39,40,41,42,45,50,62,63) have mixed types.Specify dtype option on import or set low_memory=False.\n",
      "  has_raised = await self.run_ast_nodes(code_ast.body, cell_name,\n",
      "C:\\Users\\Weilin\\AppData\\Roaming\\Python\\Python38\\site-packages\\IPython\\core\\interactiveshell.py:3145: DtypeWarning: Columns (20) have mixed types.Specify dtype option on import or set low_memory=False.\n",
      "  has_raised = await self.run_ast_nodes(code_ast.body, cell_name,\n",
      "C:\\Users\\Weilin\\AppData\\Roaming\\Python\\Python38\\site-packages\\IPython\\core\\interactiveshell.py:3145: DtypeWarning: Columns (24,25,26,27,28,29,30,31) have mixed types.Specify dtype option on import or set low_memory=False.\n",
      "  has_raised = await self.run_ast_nodes(code_ast.body, cell_name,\n"
     ]
    }
   ],
   "source": [
    "# Get data in one dataframe\n",
    "\n",
    "# Exceptions\n",
    "exceptions = ['city_id']\n",
    "\n",
    "# Store result in this master dataframe\n",
    "df_final = pd.DataFrame(columns = columns)\n",
    "\n",
    "# Loop through files\n",
    "for file in files:\n",
    "    \n",
    "    # Create temp dataframe\n",
    "    df_temp = pd.DataFrame(columns = columns)\n",
    "    # Read data\n",
    "    data = pd.read_csv(path+\"/\"+file)\n",
    "    # Get column names\n",
    "    column_names = data.columns.tolist()\n",
    "    \n",
    "    # Check if data has lat and long data\n",
    "    if any('latitude' in string.lower() for string in column_names) and any('longitude' in string.lower() for string in column_names):\n",
    "        # Find column names containing lat and long\n",
    "        for col in columns:\n",
    "            for name in column_names:\n",
    "                if name.lower().find(col) == 0:\n",
    "                    if name.lower() in exceptions:\n",
    "                        continue\n",
    "                    df_temp[col] = data[name]\n",
    "                    break\n",
    "        \n",
    "        # append in master dataframe\n",
    "        df_final = df_final.append(df_temp)\n",
    "    else:\n",
    "        continue"
   ]
  },
  {
   "cell_type": "code",
   "execution_count": null,
   "metadata": {},
   "outputs": [],
   "source": [
    "df_final = df_final.drop_duplicates()\n",
    "df_final = df_final.dropna(subset=['latitude'])\n",
    "df_final = df_final.dropna(subset=['longitude'])\n",
    "df_final.to_csv('standard_dataset.csv', index=False)"
   ]
  },
  {
   "cell_type": "code",
   "execution_count": null,
   "metadata": {},
   "outputs": [],
   "source": [
    "df_final[df_final['city']=='Colorado Springs']"
   ]
  },
  {
   "cell_type": "code",
   "execution_count": 8,
   "metadata": {},
   "outputs": [
    {
     "data": {
      "text/plain": [
       "(25476, 8)"
      ]
     },
     "execution_count": 8,
     "metadata": {},
     "output_type": "execute_result"
    }
   ],
   "source": [
    "df_final.shape"
   ]
  },
  {
   "cell_type": "code",
   "execution_count": 8,
   "metadata": {},
   "outputs": [
    {
     "data": {
      "text/plain": [
       "0"
      ]
     },
     "execution_count": 8,
     "metadata": {},
     "output_type": "execute_result"
    }
   ],
   "source": [
    "test = \"latitude\"\n",
    "test2 = \"latitude_coordinate\"\n",
    "\n",
    "test2.find(test)"
   ]
  },
  {
   "cell_type": "code",
   "execution_count": null,
   "metadata": {},
   "outputs": [],
   "source": []
  }
 ],
 "metadata": {
  "kernelspec": {
   "display_name": "Python 3",
   "language": "python",
   "name": "python3"
  },
  "language_info": {
   "codemirror_mode": {
    "name": "ipython",
    "version": 3
   },
   "file_extension": ".py",
   "mimetype": "text/x-python",
   "name": "python",
   "nbconvert_exporter": "python",
   "pygments_lexer": "ipython3",
   "version": "3.8.3"
  }
 },
 "nbformat": 4,
 "nbformat_minor": 4
}
