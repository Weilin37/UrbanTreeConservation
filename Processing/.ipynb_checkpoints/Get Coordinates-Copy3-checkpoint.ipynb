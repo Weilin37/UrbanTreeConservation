{
 "cells": [
  {
   "cell_type": "code",
   "execution_count": 1,
   "metadata": {},
   "outputs": [],
   "source": [
    "import pandas as pd\n",
    "from os import listdir\n",
    "from os.path import isfile, join\n",
    "import requests\n",
    "import math\n",
    "from tqdm import tqdm\n",
    "from opencage.geocoder import OpenCageGeocode"
   ]
  },
  {
   "cell_type": "code",
   "execution_count": 2,
   "metadata": {},
   "outputs": [],
   "source": [
    "key = 'efb8bfa10d614e67b5ba72a2934f6b25'\n",
    "geocoder = OpenCageGeocode(key)"
   ]
  },
  {
   "cell_type": "code",
   "execution_count": null,
   "metadata": {},
   "outputs": [
    {
     "name": "stderr",
     "output_type": "stream",
     "text": [
      "  0%|                                                                              | 2/38613 [00:01<8:01:09,  1.34it/s]"
     ]
    }
   ],
   "source": [
    "# Loop through files\n",
    "# Read data\n",
    "file = \"Oakland_Final_2021-07-08.csv\"\n",
    "data = pd.read_csv(\"Final Spreadsheets/\"+file, low_memory=False)\n",
    "data = data.fillna('')\n",
    "for index, row in tqdm(data.iterrows(), total=data.shape[0]):\n",
    "\n",
    "    if row['longitude_coordinate'] != '':\n",
    "        continue\n",
    "    \n",
    "    address = row['address']\n",
    "    city = row['city']\n",
    "    state = row['state']\n",
    "    \n",
    "    if len(address) == 0 or len(city) == 0 or len(state) == 0:\n",
    "        continue\n",
    "\n",
    "    query = address+\", \"+city+\", \"+state+\", United States\"\n",
    "    results = geocoder.geocode(query)\n",
    "    \n",
    "    try:\n",
    "        data.loc[index, 'latitude_coordinate'] = results[0]['geometry']['lat']\n",
    "        data.loc[index, 'longitude_coordinate'] = results[0]['geometry']['lng']\n",
    "    except:\n",
    "        data.loc[index, 'latitude_coordinate'] = ''\n",
    "        data.loc[index, 'longitude_coordinate'] = ''\n",
    "\n",
    "    data.to_csv(\"Final Spreadsheets/\"+file, index=False)\n"
   ]
  },
  {
   "cell_type": "code",
   "execution_count": null,
   "metadata": {},
   "outputs": [],
   "source": []
  }
 ],
 "metadata": {
  "kernelspec": {
   "display_name": "Python 3",
   "language": "python",
   "name": "python3"
  },
  "language_info": {
   "codemirror_mode": {
    "name": "ipython",
    "version": 3
   },
   "file_extension": ".py",
   "mimetype": "text/x-python",
   "name": "python",
   "nbconvert_exporter": "python",
   "pygments_lexer": "ipython3",
   "version": "3.8.3"
  }
 },
 "nbformat": 4,
 "nbformat_minor": 4
}
