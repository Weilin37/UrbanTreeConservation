{
 "cells": [
  {
   "cell_type": "code",
   "execution_count": 2,
   "metadata": {},
   "outputs": [],
   "source": [
    "import pandas as pd"
   ]
  },
  {
   "cell_type": "code",
   "execution_count": 29,
   "metadata": {},
   "outputs": [],
   "source": [
    "data = pd.read_csv(\"Final Spreadsheets/Minneapolis_Final_2021-07-08.csv\", low_memory=False)"
   ]
  },
  {
   "cell_type": "code",
   "execution_count": 30,
   "metadata": {},
   "outputs": [],
   "source": [
    "data[0:50000].to_csv(\"Final Spreadsheets/Minneapolis_Final_2021-07-08_part1.csv\", index=False)\n",
    "data[50000:100000].to_csv(\"Final Spreadsheets/Minneapolis_Final_2021-07-08_part2.csv\", index=False)\n",
    "data[100000:150000].to_csv(\"Final Spreadsheets/Minneapolis_Final_2021-07-08_part3.csv\", index=False)\n",
    "data[150000:].to_csv(\"Final Spreadsheets/Minneapolis_Final_2021-07-08_part4.csv\", index=False)"
   ]
  },
  {
   "cell_type": "code",
   "execution_count": 3,
   "metadata": {},
   "outputs": [],
   "source": [
    "#data1 = pd.read_csv(\"Final Spreadsheets/Houston_Final_2021-07-08_part1.csv\", low_memory=False)\n",
    "data1 = pd.read_csv(\"Final Spreadsheets/Minneapolis_Final_2021-07-08_part1.csv\", low_memory=False)\n",
    "data2 = pd.read_csv(\"Final Spreadsheets/Minneapolis_Final_2021-07-08_part2.csv\", low_memory=False)\n",
    "data3 = pd.read_csv(\"Final Spreadsheets/Minneapolis_Final_2021-07-08_part3.csv\", low_memory=False)\n",
    "data4 = pd.read_csv(\"Final Spreadsheets/Minneapolis_Final_2021-07-08_part4.csv\", low_memory=False)"
   ]
  },
  {
   "cell_type": "code",
   "execution_count": 4,
   "metadata": {},
   "outputs": [],
   "source": [
    "df = data1.append(data2)"
   ]
  },
  {
   "cell_type": "code",
   "execution_count": 5,
   "metadata": {},
   "outputs": [],
   "source": [
    "df = df.append(data3)\n",
    "df = df.append(data4)\n"
   ]
  },
  {
   "cell_type": "code",
   "execution_count": 6,
   "metadata": {},
   "outputs": [],
   "source": [
    "df.to_csv(\"Final Spreadsheets/Minneapolis_Final_2021-07-08.csv\", index=False)"
   ]
  },
  {
   "cell_type": "code",
   "execution_count": null,
   "metadata": {},
   "outputs": [],
   "source": []
  }
 ],
 "metadata": {
  "kernelspec": {
   "display_name": "Python 3",
   "language": "python",
   "name": "python3"
  },
  "language_info": {
   "codemirror_mode": {
    "name": "ipython",
    "version": 3
   },
   "file_extension": ".py",
   "mimetype": "text/x-python",
   "name": "python",
   "nbconvert_exporter": "python",
   "pygments_lexer": "ipython3",
   "version": "3.8.3"
  }
 },
 "nbformat": 4,
 "nbformat_minor": 4
}
